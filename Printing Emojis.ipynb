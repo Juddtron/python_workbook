{
 "cells": [
  {
   "cell_type": "code",
   "execution_count": 4,
   "id": "98477c76-7699-4c64-b7e6-b2c9b4029181",
   "metadata": {},
   "outputs": [
    {
     "name": "stdout",
     "output_type": "stream",
     "text": [
      "Collecting emoji\n",
      "  Downloading emoji-2.11.1-py2.py3-none-any.whl.metadata (5.3 kB)\n",
      "Downloading emoji-2.11.1-py2.py3-none-any.whl (433 kB)\n",
      "   ---------------------------------------- 0.0/433.8 kB ? eta -:--:--\n",
      "   ----------- ---------------------------- 122.9/433.8 kB 3.6 MB/s eta 0:00:01\n",
      "   --------------------- ------------------ 235.5/433.8 kB 3.6 MB/s eta 0:00:01\n",
      "   --------------------- ------------------ 235.5/433.8 kB 3.6 MB/s eta 0:00:01\n",
      "   --------------------- ------------------ 235.5/433.8 kB 3.6 MB/s eta 0:00:01\n",
      "   --------------------- ------------------ 235.5/433.8 kB 3.6 MB/s eta 0:00:01\n",
      "   --------------------- ------------------ 235.5/433.8 kB 3.6 MB/s eta 0:00:01\n",
      "   ---------------------------------------  430.1/433.8 kB 1.3 MB/s eta 0:00:01\n",
      "   ---------------------------------------- 433.8/433.8 kB 1.3 MB/s eta 0:00:00\n",
      "Installing collected packages: emoji\n",
      "Successfully installed emoji-2.11.1\n",
      "Note: you may need to restart the kernel to use updated packages.\n"
     ]
    }
   ],
   "source": [
    "pip install emoji"
   ]
  },
  {
   "cell_type": "code",
   "execution_count": 5,
   "id": "24b3319a-ae54-4e6c-81f3-bf94f77675b3",
   "metadata": {},
   "outputs": [
    {
     "name": "stdout",
     "output_type": "stream",
     "text": [
      "I love reading books📚\n",
      "Some people have a very sensitive heart❤️, please be kind with them.🌺\n"
     ]
    }
   ],
   "source": [
    "import emoji\n",
    "\n",
    "print(emoji.emojize(\"I love reading books:books:\"))\n",
    "print(emoji.emojize(\"Some people have a very sensitive heart:red_heart:, please be kind with them.:hibiscus:\"))"
   ]
  },
  {
   "cell_type": "code",
   "execution_count": null,
   "id": "5096ad43-3628-4ff5-8556-fdf45a369cb9",
   "metadata": {},
   "outputs": [],
   "source": []
  },
  {
   "cell_type": "code",
   "execution_count": null,
   "id": "ce7754a0-6a75-44b0-8dad-7ab78cc183f1",
   "metadata": {},
   "outputs": [],
   "source": []
  }
 ],
 "metadata": {
  "kernelspec": {
   "display_name": "Python 3 (ipykernel)",
   "language": "python",
   "name": "python3"
  },
  "language_info": {
   "codemirror_mode": {
    "name": "ipython",
    "version": 3
   },
   "file_extension": ".py",
   "mimetype": "text/x-python",
   "name": "python",
   "nbconvert_exporter": "python",
   "pygments_lexer": "ipython3",
   "version": "3.11.4"
  }
 },
 "nbformat": 4,
 "nbformat_minor": 5
}
