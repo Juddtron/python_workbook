{
 "cells": [
  {
   "cell_type": "code",
   "execution_count": 1,
   "id": "ef78913f-1a7d-4ac4-a6e0-ed1a898a0809",
   "metadata": {},
   "outputs": [
    {
     "name": "stdout",
     "output_type": "stream",
     "text": [
      "[10, 40, 70] [20, 50, 80] [30, 60, 90]\n"
     ]
    }
   ],
   "source": [
    "inputLists = [[10, 20, 30], [40, 50, 60], [70, 80, 90]]\n",
    "outputLists = []\n",
    "index = 0\n",
    "\n",
    "for i in range(len(inputLists[0])):\n",
    "    outputLists.append([])\n",
    "    for j in range(len(inputLists)):\n",
    "        outputLists[index].append(inputLists[j][ index])\n",
    "    index = index + 1\n",
    "a, b, c = outputLists[0], outputLists[1], outputLists[2]\n",
    "print(a, b, c)"
   ]
  },
  {
   "cell_type": "code",
   "execution_count": null,
   "id": "d41a3d7a-209b-40a3-aa4c-5c871fa95e74",
   "metadata": {},
   "outputs": [],
   "source": []
  }
 ],
 "metadata": {
  "kernelspec": {
   "display_name": "Python 3 (ipykernel)",
   "language": "python",
   "name": "python3"
  },
  "language_info": {
   "codemirror_mode": {
    "name": "ipython",
    "version": 3
   },
   "file_extension": ".py",
   "mimetype": "text/x-python",
   "name": "python",
   "nbconvert_exporter": "python",
   "pygments_lexer": "ipython3",
   "version": "3.11.4"
  }
 },
 "nbformat": 4,
 "nbformat_minor": 5
}
