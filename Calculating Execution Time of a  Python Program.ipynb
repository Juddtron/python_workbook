{
 "cells": [
  {
   "cell_type": "code",
   "execution_count": 1,
   "id": "8246e49e-d676-4669-9429-9d165f5e3e1f",
   "metadata": {},
   "outputs": [],
   "source": [
    "from time import time"
   ]
  },
  {
   "cell_type": "code",
   "execution_count": 2,
   "id": "8af26923-4832-4739-9ea3-33c45b723179",
   "metadata": {},
   "outputs": [
    {
     "name": "stdout",
     "output_type": "stream",
     "text": [
      " AI\n",
      "Execution Time :  0.0010001659393310547\n"
     ]
    }
   ],
   "source": [
    "start = time()\n",
    "\n",
    "# Python program to create acronyms\n",
    "word = \"Artificial Intelligence\"\n",
    "text = word.split()\n",
    "a = \" \"\n",
    "for i in text:\n",
    "    a = a+str(i[0]).upper()\n",
    "print(a)\n",
    "\n",
    "end = time()\n",
    "execution_time = end - start\n",
    "print(\"Execution Time : \", execution_time)"
   ]
  },
  {
   "cell_type": "code",
   "execution_count": null,
   "id": "e8ddbe2f-1a40-4f20-8e56-d757162bd23a",
   "metadata": {},
   "outputs": [],
   "source": []
  }
 ],
 "metadata": {
  "kernelspec": {
   "display_name": "Python 3 (ipykernel)",
   "language": "python",
   "name": "python3"
  },
  "language_info": {
   "codemirror_mode": {
    "name": "ipython",
    "version": 3
   },
   "file_extension": ".py",
   "mimetype": "text/x-python",
   "name": "python",
   "nbconvert_exporter": "python",
   "pygments_lexer": "ipython3",
   "version": "3.11.4"
  }
 },
 "nbformat": 4,
 "nbformat_minor": 5
}
