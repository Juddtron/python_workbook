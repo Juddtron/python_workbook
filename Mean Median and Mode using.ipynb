{
 "cells": [
  {
   "cell_type": "code",
   "execution_count": 1,
   "id": "156432d4-9378-4f2e-9945-d7e964ba4591",
   "metadata": {},
   "outputs": [
    {
     "name": "stdout",
     "output_type": "stream",
     "text": [
      "20.2\n"
     ]
    }
   ],
   "source": [
    "# Mean\n",
    "list1 = [12, 16, 20, 20, 12, 30, 25, 23, 24, 20]\n",
    "mean = sum(list1)/len(list1)\n",
    "print(mean)"
   ]
  },
  {
   "cell_type": "code",
   "execution_count": 3,
   "id": "1ae05211-bfdd-432a-982a-2ffb3a31d888",
   "metadata": {},
   "outputs": [
    {
     "name": "stdout",
     "output_type": "stream",
     "text": [
      "20.0\n"
     ]
    }
   ],
   "source": [
    "# Median\n",
    "list1 = [12, 16, 20, 20, 12, 30, 25, 23, 24, 20]\n",
    "list1.sort()\n",
    "\n",
    "if len(list1) % 2 == 0:\n",
    "    m1 = list1[len(list1)//2]\n",
    "    m2 = list1[len(list1)//2 - 1]\n",
    "    median = (m1 + m2)/2\n",
    "else:\n",
    "    median = li\n",
    "print(median)"
   ]
  },
  {
   "cell_type": "code",
   "execution_count": 4,
   "id": "627aea69-54f1-49ed-8c70-7f6161166e6e",
   "metadata": {},
   "outputs": [
    {
     "name": "stdout",
     "output_type": "stream",
     "text": [
      "20\n"
     ]
    }
   ],
   "source": [
    "# Mode\n",
    "list1 = [12, 16, 20, 20, 12, 30, 25, 23, 24, 20]\n",
    "frequency = {}\n",
    "for i in list1:\n",
    "    frequency.setdefault(i, 0)\n",
    "    frequency[i]+=1\n",
    "\n",
    "frequent = max(frequency.values())\n",
    "for i, j in frequency.items():\n",
    "    if j == frequent:\n",
    "        mode = i\n",
    "print(mode)"
   ]
  },
  {
   "cell_type": "code",
   "execution_count": null,
   "id": "207d1177-0aa6-4544-973b-5c63e6915dbb",
   "metadata": {},
   "outputs": [],
   "source": []
  },
  {
   "cell_type": "code",
   "execution_count": null,
   "id": "3009a8d6-e434-4955-8193-e9c53f2695c6",
   "metadata": {},
   "outputs": [],
   "source": []
  },
  {
   "cell_type": "code",
   "execution_count": null,
   "id": "be384107-2e8b-4e55-b098-b797df12d162",
   "metadata": {},
   "outputs": [],
   "source": []
  }
 ],
 "metadata": {
  "kernelspec": {
   "display_name": "Python 3 (ipykernel)",
   "language": "python",
   "name": "python3"
  },
  "language_info": {
   "codemirror_mode": {
    "name": "ipython",
    "version": 3
   },
   "file_extension": ".py",
   "mimetype": "text/x-python",
   "name": "python",
   "nbconvert_exporter": "python",
   "pygments_lexer": "ipython3",
   "version": "3.11.4"
  }
 },
 "nbformat": 4,
 "nbformat_minor": 5
}
