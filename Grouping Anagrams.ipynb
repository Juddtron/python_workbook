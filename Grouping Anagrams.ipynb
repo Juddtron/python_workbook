{
 "cells": [
  {
   "cell_type": "code",
   "execution_count": 1,
   "id": "d4664754-d1bd-4ec7-bd3f-29d43be10e96",
   "metadata": {},
   "outputs": [],
   "source": [
    "from collections import defaultdict"
   ]
  },
  {
   "cell_type": "code",
   "execution_count": 2,
   "id": "57d224f4-4791-434f-aede-65cbe3a4b91e",
   "metadata": {},
   "outputs": [],
   "source": [
    "def group_anagrams(a):\n",
    "    dfdict = defaultdict(list)\n",
    "    for i in a:\n",
    "        sorted_i = \" \".join(sorted(i))\n",
    "        dfdict[sorted_i].append(i)\n",
    "    return dfdict.values()"
   ]
  },
  {
   "cell_type": "code",
   "execution_count": 4,
   "id": "d888d9f2-7b11-4088-bec1-d6be2bf737e4",
   "metadata": {},
   "outputs": [
    {
     "name": "stdout",
     "output_type": "stream",
     "text": [
      "dict_values([['tea', 'eat', 'ate'], ['bat', 'tab'], ['arc', 'car']])\n"
     ]
    }
   ],
   "source": [
    "words = [\"tea\", \"eat\", \"bat\", \"tab\", \"ate\", \"arc\", \"car\"]\n",
    "print(group_anagrams(words))"
   ]
  },
  {
   "cell_type": "code",
   "execution_count": null,
   "id": "74f8b697-e96c-4f77-8d2b-f30350ad59de",
   "metadata": {},
   "outputs": [],
   "source": []
  }
 ],
 "metadata": {
  "kernelspec": {
   "display_name": "Python 3 (ipykernel)",
   "language": "python",
   "name": "python3"
  },
  "language_info": {
   "codemirror_mode": {
    "name": "ipython",
    "version": 3
   },
   "file_extension": ".py",
   "mimetype": "text/x-python",
   "name": "python",
   "nbconvert_exporter": "python",
   "pygments_lexer": "ipython3",
   "version": "3.11.4"
  }
 },
 "nbformat": 4,
 "nbformat_minor": 5
}
